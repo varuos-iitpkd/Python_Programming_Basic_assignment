{
 "cells": [
  {
   "cell_type": "code",
   "execution_count": 1,
   "metadata": {},
   "outputs": [],
   "source": [
    "#1. Write a Python program to print \"Hello Python\"?\n",
    "#2. Write a Python program to do arithmetical operations addition and division.?\n",
    "#3. Write a Python program to find the area of a triangle?\n",
    "#4. Write a Python program to swap two variables?\n",
    "#5. Write a Python program to generate a random number?"
   ]
  },
  {
   "cell_type": "code",
   "execution_count": 2,
   "metadata": {},
   "outputs": [
    {
     "name": "stdout",
     "output_type": "stream",
     "text": [
      "Hello Python\n"
     ]
    }
   ],
   "source": [
    "#1. Write a Python program to print \"Hello Python\"?\n",
    "print(\"Hello Python\")"
   ]
  },
  {
   "cell_type": "code",
   "execution_count": 7,
   "metadata": {},
   "outputs": [
    {
     "name": "stdout",
     "output_type": "stream",
     "text": [
      "5\n",
      "1.5\n",
      "1\n"
     ]
    },
    {
     "data": {
      "text/plain": [
       "int"
      ]
     },
     "execution_count": 7,
     "metadata": {},
     "output_type": "execute_result"
    }
   ],
   "source": [
    "#2. Write a Python program to do arithmetical operations addition and division?\n",
    "def add(a, b):\n",
    "    return a + b\n",
    "def div(a, b):\n",
    "    return a/b\n",
    "def fdiv(a, b):\n",
    "    return a//b\n",
    "print(add(2,3))\n",
    "print(div(3,2)) # provides output in float type\n",
    "print(fdiv(3,2))# provides output in int type\n",
    "type(fdiv(3,2))"
   ]
  },
  {
   "cell_type": "code",
   "execution_count": 9,
   "metadata": {},
   "outputs": [
    {
     "name": "stdout",
     "output_type": "stream",
     "text": [
      "---This program will calculate the area of a triangle---\n",
      "Enter the base length: 2\n",
      "Enter the height: 2\n",
      "The area of the triangle is:  2.0\n"
     ]
    }
   ],
   "source": [
    "#3. Write a Python program to find the area of a triangle?\n",
    "print('---This program will calculate the area of a triangle---')\n",
    "base = float(input('Enter the base length: '))\n",
    "height = float(input('Enter the height: '))\n",
    "area  = 0.5 * base * height\n",
    "print('The area of the triangle is: ', area)"
   ]
  },
  {
   "cell_type": "code",
   "execution_count": 10,
   "metadata": {},
   "outputs": [
    {
     "name": "stdout",
     "output_type": "stream",
     "text": [
      "---This program will swap the two variables---\n",
      "Enter the first variable: 2\n",
      "Enter the second variable: 3\n",
      "The value of a is 2.0 and b is 3.0\n",
      "---Now swapping the variables---\n",
      "The value of a is 3.0 and b is 2.0\n"
     ]
    }
   ],
   "source": [
    "#4. Write a Python program to swap two variables?\n",
    "print('---This program will swap the two variables---')\n",
    "a = float(input('Enter the first variable: '))\n",
    "b = float(input('Enter the second variable: '))\n",
    "print('The value of a is {} and b is {}'.format(a, b))\n",
    "print('---Now swapping the variables---')\n",
    "temp = a\n",
    "a = b\n",
    "b = temp\n",
    "print('The value of a is {} and b is {}'.format(a, b))"
   ]
  },
  {
   "cell_type": "code",
   "execution_count": 14,
   "metadata": {},
   "outputs": [
    {
     "name": "stdout",
     "output_type": "stream",
     "text": [
      "5\n",
      "0.24209386058033244\n",
      "5.063814856430671\n"
     ]
    }
   ],
   "source": [
    "#5. Write a Python program to generate a random number?\n",
    "from random import *\n",
    "print(randint(1, 10)) # generates a random integer from 1 to 9\n",
    "print(random()) # generates a random float number from 0 to 1\n",
    "print(uniform(1, 10)) # generates a random float number between 1 and 9"
   ]
  },
  {
   "cell_type": "code",
   "execution_count": null,
   "metadata": {},
   "outputs": [],
   "source": []
  }
 ],
 "metadata": {
  "kernelspec": {
   "display_name": "Python 3",
   "language": "python",
   "name": "python3"
  },
  "language_info": {
   "codemirror_mode": {
    "name": "ipython",
    "version": 3
   },
   "file_extension": ".py",
   "mimetype": "text/x-python",
   "name": "python",
   "nbconvert_exporter": "python",
   "pygments_lexer": "ipython3",
   "version": "3.8.5"
  }
 },
 "nbformat": 4,
 "nbformat_minor": 4
}
