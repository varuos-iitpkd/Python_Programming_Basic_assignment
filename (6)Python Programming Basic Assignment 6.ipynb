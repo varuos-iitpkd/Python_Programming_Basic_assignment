{
 "cells": [
  {
   "cell_type": "markdown",
   "metadata": {},
   "source": [
    "#\n",
    "1. Write a Python Program to Display Fibonacci Sequence Using Recursion?\n",
    "2. Write a Python Program to Find Factorial of Number Using Recursion?\n",
    "3. Write a Python Program to calculate your Body Mass Index?\n",
    "4. Write a Python Program to calculate the natural logarithm of any number?\n",
    "5. Write a Python Program for cube sum of first n natural numbers?"
   ]
  },
  {
   "cell_type": "code",
   "execution_count": 1,
   "metadata": {},
   "outputs": [
    {
     "name": "stdout",
     "output_type": "stream",
     "text": [
      "---This program is to generate fibonacci sequence with a recurssion---\n",
      "Enter how many terms you want to print: 6\n",
      "0\n",
      "1\n",
      "1\n",
      "2\n",
      "3\n",
      "5\n"
     ]
    }
   ],
   "source": [
    "#1. Write a Python Program to Display Fibonacci Sequence Using Recursion?\n",
    "def fibo(n):\n",
    "    if n == 1:\n",
    "        result = 0\n",
    "    elif n == 2:\n",
    "        result = 1\n",
    "    else:\n",
    "        result = fibo(n-1) + fibo(n-2)\n",
    "    return result\n",
    "\n",
    "print('---This program is to generate fibonacci sequence with a recurssion---')\n",
    "n = int(input('Enter how many terms you want to print: '))\n",
    "for i in range(1, n + 1):\n",
    "    print(fibo(i))"
   ]
  },
  {
   "cell_type": "code",
   "execution_count": 3,
   "metadata": {},
   "outputs": [
    {
     "name": "stdout",
     "output_type": "stream",
     "text": [
      "Object `Recursion` not found.\n",
      "Enter the number you want factorial: 4\n",
      "The factorial of 4 is 24\n"
     ]
    }
   ],
   "source": [
    "2. Write a Python Program to Find Factorial of Number Using Recursion?\n",
    "def fac(n):\n",
    "    if n == 1:\n",
    "        result = 1\n",
    "    else:\n",
    "        result = n * fac(n-1)\n",
    "    return result\n",
    "\n",
    "n = int(input('Enter the number you want factorial: '))\n",
    "print('The factorial of {} is {}'.format(n, fac(n)))"
   ]
  },
  {
   "cell_type": "code",
   "execution_count": 7,
   "metadata": {},
   "outputs": [
    {
     "name": "stdout",
     "output_type": "stream",
     "text": [
      "---This program will calculate BMI---\n",
      "Enter your weight in 'kg': 75\n",
      "Enter your height in 'cm': 172\n",
      "Your BMI is 25.35\n"
     ]
    }
   ],
   "source": [
    "#3. Write a Python Program to calculate your Body Mass Index?\n",
    "print('---This program will calculate BMI---')\n",
    "def BMI(height, weight):\n",
    "    result = weight/(height/100)**2\n",
    "    return result\n",
    "\n",
    "weight = float(input(\"Enter your weight in 'kg': \"))\n",
    "height = float(input(\"Enter your height in 'cm': \"))\n",
    "print('Your BMI is', round(BMI(height, weight),2))"
   ]
  },
  {
   "cell_type": "code",
   "execution_count": 13,
   "metadata": {},
   "outputs": [
    {
     "name": "stdout",
     "output_type": "stream",
     "text": [
      "Enter the number for which natural logarithm needed: 2\n",
      "The natural logarithm of 2.0 is ln(2.0) = 0.6931471805599453\n"
     ]
    }
   ],
   "source": [
    "##4. Write a Python Program to calculate the natural logarithm of any number?\n",
    "from math import *\n",
    "def ln(n):\n",
    "    result = log(n)\n",
    "    return result\n",
    "\n",
    "n = float(input('Enter the number for which natural logarithm needed: '))\n",
    "print('The natural logarithm of {} is ln({}) = {}'.format(n, n, ln(n)))"
   ]
  },
  {
   "cell_type": "code",
   "execution_count": 14,
   "metadata": {},
   "outputs": [
    {
     "name": "stdout",
     "output_type": "stream",
     "text": [
      "Enter value of n: 3\n",
      "The cube sum of the first 3 natural numbers is 36\n"
     ]
    }
   ],
   "source": [
    "#5. Write a Python Program for cube sum of first n natural numbers?\n",
    "def cube_sum(n):\n",
    "    result = 0\n",
    "    for i in range(1, n+1):\n",
    "        result += (i*i*i)\n",
    "    return result\n",
    "\n",
    "n = int(input('Enter value of n: '))\n",
    "print('The cube sum of the first {} natural numbers is {}'.format(n, cube_sum(n)))"
   ]
  },
  {
   "cell_type": "code",
   "execution_count": null,
   "metadata": {},
   "outputs": [],
   "source": []
  }
 ],
 "metadata": {
  "kernelspec": {
   "display_name": "Python 3",
   "language": "python",
   "name": "python3"
  },
  "language_info": {
   "codemirror_mode": {
    "name": "ipython",
    "version": 3
   },
   "file_extension": ".py",
   "mimetype": "text/x-python",
   "name": "python",
   "nbconvert_exporter": "python",
   "pygments_lexer": "ipython3",
   "version": "3.8.5"
  }
 },
 "nbformat": 4,
 "nbformat_minor": 4
}
