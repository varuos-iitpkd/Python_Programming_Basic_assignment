{
 "cells": [
  {
   "cell_type": "markdown",
   "metadata": {},
   "source": [
    "1. Write a Python Program to Find LCM?\n",
    "2. Write a Python Program to Find HCF?\n",
    "3. Write a Python Program to Convert Decimal to Binary, Octal and Hexadecimal?\n",
    "4. Write a Python Program To Find ASCII value of a character?\n",
    "5. Write a Python Program to Make a Simple Calculator with 4 basic mathematical operations?"
   ]
  },
  {
   "cell_type": "code",
   "execution_count": 6,
   "metadata": {},
   "outputs": [
    {
     "name": "stdout",
     "output_type": "stream",
     "text": [
      "Enter your list of numbers: 10,12,15\n",
      "The LCM is:  60\n"
     ]
    }
   ],
   "source": [
    "#1. Write a Python Program to Find LCM?\n",
    "def lcm_2num(a, b):\n",
    "    if a > b:\n",
    "        greater = a\n",
    "    else:\n",
    "        greater = b\n",
    "    while True:\n",
    "        if greater % a == 0 and greater % b == 0:\n",
    "            lcm = greater\n",
    "            break\n",
    "        greater += 1\n",
    "    return lcm\n",
    "\n",
    "n = eval(input('Enter your list of numbers: '))\n",
    "a = n[0]\n",
    "b = n[1]\n",
    "lcm = lcm_2num(a,b)\n",
    "for i in range(2, len(n)):\n",
    "    LCM = lcm_2num(lcm, n[i])\n",
    "print('The LCM is: ', LCM)\n",
    "\n",
    "    "
   ]
  },
  {
   "cell_type": "code",
   "execution_count": 13,
   "metadata": {},
   "outputs": [
    {
     "name": "stdout",
     "output_type": "stream",
     "text": [
      "Enter your list of numbers: 30,48,96\n",
      "The HCF is:  6\n"
     ]
    }
   ],
   "source": [
    "#2. Write a Python Program to Find HCF?\n",
    "def find_hcf(a, b):\n",
    "    difference = max(a,b) - min(a,b)\n",
    "    i = difference\n",
    "    while i>0:\n",
    "        if difference%i == 0 and a%i == 0 and b%i == 0:\n",
    "            hcf = i\n",
    "            break\n",
    "        i -= 1\n",
    "    return hcf\n",
    "n = eval(input('Enter your list of numbers: '))\n",
    "a = n[0]\n",
    "b = n[1]\n",
    "hcf = find_hcf(a,b)\n",
    "for i in range(2, len(n)):\n",
    "    HCF = find_hcf(hcf, n[i])\n",
    "print('The HCF is: ', HCF)\n",
    "            "
   ]
  },
  {
   "cell_type": "code",
   "execution_count": 13,
   "metadata": {},
   "outputs": [
    {
     "name": "stdout",
     "output_type": "stream",
     "text": [
      "---Find DECIMAL to BINARY---\n",
      "Enter your decimal number: 456\n",
      "The Binary Equivalent is: 111001000"
     ]
    }
   ],
   "source": [
    "#3. Write a Python Program to Convert Decimal to Binary, Octal and Hexadecimal?\n",
    "print('---Find DECIMAL to BINARY---')\n",
    "d = int(input('Enter your decimal number: '))\n",
    "l = []\n",
    "while d != 1:\n",
    "    element = d%2\n",
    "    d = d//2\n",
    "    l.append(int(element))\n",
    "l.append(int(d))\n",
    "print('The Binary Equivalent is: ',end = '')\n",
    "for i in l[::-1]:\n",
    "    print(i, end = '')"
   ]
  },
  {
   "cell_type": "code",
   "execution_count": 7,
   "metadata": {},
   "outputs": [
    {
     "name": "stdout",
     "output_type": "stream",
     "text": [
      "Enter your decimal number: 456\n",
      "The binary equivalent is:  111001000\n",
      "Enter your octal number: 367\n",
      "The Hexadecimal equivalent is:  16f\n"
     ]
    }
   ],
   "source": [
    "#3. Write a Python Program to Convert Decimal to Binary, Octal and Hexadecimal?\n",
    "d = eval(input('Enter your decimal number: '))\n",
    "print('The binary equivalent is: ', bin(d)[2:len(bin(d))])\n",
    "o = eval(input('Enter your octal number: '))\n",
    "print('The Hexadecimal equivalent is: ', hex(o)[2:len(hex(o))])"
   ]
  },
  {
   "cell_type": "code",
   "execution_count": 12,
   "metadata": {},
   "outputs": [
    {
     "name": "stdout",
     "output_type": "stream",
     "text": [
      "Enter the character: a\n",
      "The ASCII Value of a is: 97\n"
     ]
    }
   ],
   "source": [
    "#4. Write a Python Program To Find ASCII value of a character?\n",
    "c = input('Enter the character: ')\n",
    "print('The ASCII Value of {} is: {}'.format(c, ord(c)))"
   ]
  },
  {
   "cell_type": "code",
   "execution_count": 3,
   "metadata": {},
   "outputs": [],
   "source": [
    "#5. Write a Python Program to Make a Simple Calculator with 4 basic mathematical operations?\n",
    "def calculator(a,b):\n",
    "    print('Which operation do you want to conduct--> Addition, Subtraction, Multiplicaiton, Division: ')\n",
    "    o = input().lower()\n",
    "    if o == 'addition':\n",
    "        out = str(a + b)\n",
    "        print('The summation is: ', out)\n",
    "    elif o == 'subtraction':\n",
    "        out = max(a,b) - min(a,b)\n",
    "        print('The subtraction is: ', out)\n",
    "    elif o == 'multiplication':\n",
    "        out = a * b\n",
    "        print('The multiplicaton is: ', out)\n",
    "    elif o == 'division':\n",
    "        out = a/b\n",
    "        print('The division is: ', out)"
   ]
  },
  {
   "cell_type": "code",
   "execution_count": 4,
   "metadata": {},
   "outputs": [
    {
     "name": "stdout",
     "output_type": "stream",
     "text": [
      "Which operation do you want to conduct--> Addition, Subtraction, Multiplicaiton, Division: \n",
      "addition\n",
      "The summation is:  5\n"
     ]
    }
   ],
   "source": [
    "calculator(2,3)"
   ]
  },
  {
   "cell_type": "code",
   "execution_count": null,
   "metadata": {},
   "outputs": [],
   "source": []
  }
 ],
 "metadata": {
  "kernelspec": {
   "display_name": "Python 3",
   "language": "python",
   "name": "python3"
  },
  "language_info": {
   "codemirror_mode": {
    "name": "ipython",
    "version": 3
   },
   "file_extension": ".py",
   "mimetype": "text/x-python",
   "name": "python",
   "nbconvert_exporter": "python",
   "pygments_lexer": "ipython3",
   "version": "3.8.5"
  }
 },
 "nbformat": 4,
 "nbformat_minor": 4
}
