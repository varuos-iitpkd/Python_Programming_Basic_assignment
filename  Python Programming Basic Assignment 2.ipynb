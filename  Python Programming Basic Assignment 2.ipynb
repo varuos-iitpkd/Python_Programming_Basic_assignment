{
 "cells": [
  {
   "cell_type": "code",
   "execution_count": 1,
   "metadata": {},
   "outputs": [],
   "source": [
    "# 1. Write a Python program to convert kilometers to miles?\n",
    "# 2. Write a Python program to convert Celsius to Fahrenheit?\n",
    "# 3. Write a Python program to display calendar?\n",
    "# 4. Write a Python program to solve quadratic equation?\n",
    "# 5. Write a Python program to swap two variables without temp variable?"
   ]
  },
  {
   "cell_type": "code",
   "execution_count": 2,
   "metadata": {},
   "outputs": [
    {
     "name": "stdout",
     "output_type": "stream",
     "text": [
      "Enter the value in kilometers: 5\n",
      "The kilometers value is converted:  3.106855 miles\n"
     ]
    }
   ],
   "source": [
    "# 1. Write a Python program to convert kilometers to miles?\n",
    "k = float(input('Enter the value in kilometers: '))\n",
    "miles = k * 0.621371\n",
    "print('The kilometers value is converted: ', miles, 'miles')"
   ]
  },
  {
   "cell_type": "code",
   "execution_count": 4,
   "metadata": {},
   "outputs": [
    {
     "name": "stdout",
     "output_type": "stream",
     "text": [
      "Enter the temparature in celsius: 0\n",
      "The celsius value is converted to:  32.0 farenheit\n"
     ]
    }
   ],
   "source": [
    "# 2. Write a Python program to convert Celsius to Fahrenheit?\n",
    "c = float(input('Enter the temparature in celsius: '))\n",
    "f = (c * 9/5) + 32\n",
    "print('The celsius value is converted to: ', f, 'farenheit')"
   ]
  },
  {
   "cell_type": "code",
   "execution_count": 11,
   "metadata": {},
   "outputs": [
    {
     "name": "stdout",
     "output_type": "stream",
     "text": [
      "---This program will print the calendar of a particular year or a particular month as required---\n",
      "If you want to see the calendar of an entire year then enter 1, else enter 0 if you wish to see the calendar of a particular month of a year: 0\n",
      "Enter the year: 2021\n",
      "Enter the number of the month: 4\n",
      "***You are about to see the calendar of the specified month of  2021 ***\n",
      "                       April 2021\n",
      "\n",
      "\n",
      "\n",
      "  Mon     Tue     Wed     Thu     Fri     Sat     Sun\n",
      "\n",
      "\n",
      "\n",
      "                            1       2       3       4\n",
      "\n",
      "\n",
      "\n",
      "    5       6       7       8       9      10      11\n",
      "\n",
      "\n",
      "\n",
      "   12      13      14      15      16      17      18\n",
      "\n",
      "\n",
      "\n",
      "   19      20      21      22      23      24      25\n",
      "\n",
      "\n",
      "\n",
      "   26      27      28      29      30\n",
      "\n",
      "\n",
      "\n"
     ]
    }
   ],
   "source": [
    "# 3. Write a Python program to display calendar?\n",
    "from calendar import *\n",
    "print('---This program will print the calendar of a particular year or a particular month as required---')\n",
    "a = int(input('If you want to see the calendar of an entire year then enter 1, else enter 0 if you wish to see the calendar of a particular month of a year: '))\n",
    "if a == 1:\n",
    "    year = int(input('Enter the year: '))\n",
    "    print('***You are about to see the entire calendar of year ', year, '***')\n",
    "    prcal(year, w = 4, l = 3, c = 6, m = 3)\n",
    "else:\n",
    "    if a == 0:\n",
    "        year = int(input('Enter the year: '))\n",
    "        month_number = int(input('Enter the number of the month: '))\n",
    "        print('***You are about to see the calendar of the specified month of ',year,'***')\n",
    "        prmonth(year, month_number, w = 7, l = 4)\n",
    "    elif a != 1 or a != 0:\n",
    "        print('You should proceed as directed to see the calendar, value of a should be either 0 or 1')\n"
   ]
  },
  {
   "cell_type": "code",
   "execution_count": 16,
   "metadata": {},
   "outputs": [
    {
     "name": "stdout",
     "output_type": "stream",
     "text": [
      "***The conventional structure of a second order quadratic equation is ax2 + bx + c = 0***\n",
      "Enter the value of a: 2\n",
      "Enter the vlaue of b: 90\n",
      "Enter the value of c: 3\n",
      "The two values of variable x after solving the equation are following: \n",
      "-0.03335806133902963\n",
      "-44.96664193866097\n"
     ]
    }
   ],
   "source": [
    "# 4. Write a Python program to solve quadratic equation?\n",
    "from math import *\n",
    "print('***The conventional structure of a second order quadratic equation is ax2 + bx + c = 0***')\n",
    "a = float(input('Enter the value of a: '))\n",
    "b = float(input('Enter the vlaue of b: '))\n",
    "c = float(input('Enter the value of c: '))\n",
    "if pow(b,2)-4*a*c >= 0 and a > 0:\n",
    "    print('The two values of variable x after solving the equation are following: ')\n",
    "    x1 = (- b + sqrt(pow(b,2) - 4 * a * c))/(2*a)\n",
    "    x2 = (- b - sqrt(pow(b,2) - 4 * a * c))/(2*a)\n",
    "    print(x1)\n",
    "    print(x2)\n",
    "else:\n",
    "    print('Enter values of a, b, c such that b2 - 4ac >= 0 and a > 0')"
   ]
  },
  {
   "cell_type": "code",
   "execution_count": 21,
   "metadata": {},
   "outputs": [
    {
     "name": "stdout",
     "output_type": "stream",
     "text": [
      "Enter the value of a: 2\n",
      "Enter the value of b: 3\n",
      "The value of a is 2.0 and b is 3.0\n",
      "=====Now swapping the vlaues of a and b=====\n",
      "\n",
      "Now the value of a is 3.0 and b is 2.0\n"
     ]
    }
   ],
   "source": [
    "# 5. Write a Python program to swap two variables without temp variable?\n",
    "a = float(input('Enter the value of a: '))\n",
    "b = float(input('Enter the value of b: '))\n",
    "print('The value of a is {} and b is {}'.format(a, b))\n",
    "a, b = b, a\n",
    "print('=====Now swapping the vlaues of a and b=====\\n')\n",
    "print('Now the value of a is {} and b is {}'.format(a, b))"
   ]
  },
  {
   "cell_type": "code",
   "execution_count": null,
   "metadata": {},
   "outputs": [],
   "source": []
  }
 ],
 "metadata": {
  "kernelspec": {
   "display_name": "Python 3",
   "language": "python",
   "name": "python3"
  },
  "language_info": {
   "codemirror_mode": {
    "name": "ipython",
    "version": 3
   },
   "file_extension": ".py",
   "mimetype": "text/x-python",
   "name": "python",
   "nbconvert_exporter": "python",
   "pygments_lexer": "ipython3",
   "version": "3.8.5"
  }
 },
 "nbformat": 4,
 "nbformat_minor": 4
}
