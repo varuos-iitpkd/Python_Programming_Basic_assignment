{
 "cells": [
  {
   "cell_type": "markdown",
   "metadata": {},
   "source": [
    "1. Write a Python program to find sum of elements in list?\n",
    "2. Write a Python program to Multiply all numbers in the list?\n",
    "3. Write a Python program to find smallest number in a list?\n",
    "4. Write a Python program to find largest number in a list?\n",
    "5. Write a Python program to find second largest number in a list?\n",
    "6. Write a Python program to find N largest elements from a list?\n",
    "7. Write a Python program to print even numbers in a list?\n",
    "8. Write a Python program to print odd numbers in a List?\n",
    "9. Write a Python program to Remove empty List from List?\n",
    "10. Write a Python program to Cloning or Copying a list?\n",
    "11. Write a Python program to Count occurrences of an element in a list?"
   ]
  },
  {
   "cell_type": "code",
   "execution_count": 1,
   "metadata": {},
   "outputs": [
    {
     "name": "stdout",
     "output_type": "stream",
     "text": [
      "Enter the list here: [3,4,5,6,7,8]\n",
      "The sum of the elements in the list is:  33\n"
     ]
    }
   ],
   "source": [
    "#1. Write a Python program to find sum of elements in list?\n",
    "def list_sum(list):\n",
    "    result = sum(list)\n",
    "    return result\n",
    "\n",
    "list = eval(input('Enter the list here: '))\n",
    "print('The sum of the elements in the list is: ', list_sum(list))"
   ]
  },
  {
   "cell_type": "code",
   "execution_count": 5,
   "metadata": {},
   "outputs": [
    {
     "name": "stdout",
     "output_type": "stream",
     "text": [
      "Enter the list here: [3,4,5]\n",
      "The multiplication of the elements in the list is:  60\n"
     ]
    }
   ],
   "source": [
    "#2. Write a Python program to Multiply all numbers in the list?\n",
    "\n",
    "def list_mul(list):\n",
    "    result = 1\n",
    "    for i in range(len(list)):\n",
    "        result *= list[i]\n",
    "    return result\n",
    "\n",
    "list = eval(input('Enter the list here: '))\n",
    "print('The multiplication of the elements in the list is: ', list_mul(list))"
   ]
  },
  {
   "cell_type": "code",
   "execution_count": 6,
   "metadata": {},
   "outputs": [
    {
     "name": "stdout",
     "output_type": "stream",
     "text": [
      "Enter the list here: [3,8,-7,-25, 2, 21]\n",
      "The smallest elements in the list is:  -25\n"
     ]
    }
   ],
   "source": [
    "#3. Write a Python program to find smallest number in a list?\n",
    "def list_small(list):\n",
    "    result = min(list)\n",
    "    return result\n",
    "\n",
    "list = eval(input('Enter the list here: '))\n",
    "print('The smallest elements in the list is: ', list_small(list))"
   ]
  },
  {
   "cell_type": "code",
   "execution_count": 7,
   "metadata": {},
   "outputs": [
    {
     "name": "stdout",
     "output_type": "stream",
     "text": [
      "Enter the list here: [3,8,-7,-25, 2, 21]\n",
      "The largest elements in the list is:  21\n"
     ]
    }
   ],
   "source": [
    "#4. Write a Python program to find largest number in a list?\n",
    "def list_large(list):\n",
    "    result = max(list)\n",
    "    return result\n",
    "\n",
    "list = eval(input('Enter the list here: '))\n",
    "print('The largest elements in the list is: ', list_large(list))"
   ]
  },
  {
   "cell_type": "code",
   "execution_count": 10,
   "metadata": {},
   "outputs": [
    {
     "name": "stdout",
     "output_type": "stream",
     "text": [
      "Enter the list here: [3,8,-7,-25, 2, 21]\n",
      "The second largest elements in the list is:  8\n"
     ]
    }
   ],
   "source": [
    "#5. Write a Python program to find second largest number in a list?\n",
    "def list_sec_large(list):\n",
    "    list.remove(max(list))\n",
    "    return max(list)\n",
    "\n",
    "list = eval(input('Enter the list here: '))\n",
    "print('The second largest elements in the list is: ', list_sec_large(list))"
   ]
  },
  {
   "cell_type": "code",
   "execution_count": 16,
   "metadata": {},
   "outputs": [
    {
     "name": "stdout",
     "output_type": "stream",
     "text": [
      "Enter the list: [3,25,4,5,21]\n",
      "How many largest elements do you want to find: 2\n",
      "The answer is:  [25, 21]\n"
     ]
    }
   ],
   "source": [
    "#6. Write a Python program to find N largest elements from a list?\n",
    "def N_largest(list, N):\n",
    "    new = []\n",
    "    for i in range(N):\n",
    "        new.append(sorted(list)[::-1][i])\n",
    "    return new\n",
    "\n",
    "list = eval(input('Enter the list: '))\n",
    "N = int(input('How many largest elements do you want to find: '))\n",
    "print('The answer is: ', N_largest(list, N))"
   ]
  },
  {
   "cell_type": "code",
   "execution_count": 23,
   "metadata": {},
   "outputs": [
    {
     "name": "stdout",
     "output_type": "stream",
     "text": [
      "Enter the list here: [3,8,-7,-25, 2, 21]\n",
      "The even numbers present in this list is/are:  [8, 2]\n"
     ]
    }
   ],
   "source": [
    "#7. Write a Python program to print even numbers in a list?\n",
    "\n",
    "def list_even(list):\n",
    "    result = []\n",
    "    for i in range(len(list)):\n",
    "        if list[i]%2 == 0:\n",
    "            result.append(list[i])\n",
    "    return result\n",
    "\n",
    "list = eval(input('Enter the list here: '))\n",
    "print('The even numbers present in this list is/are: ', list_even(list))"
   ]
  },
  {
   "cell_type": "code",
   "execution_count": 24,
   "metadata": {},
   "outputs": [
    {
     "name": "stdout",
     "output_type": "stream",
     "text": [
      "Enter the list here: [3,8,-7,-25, 2, 21]\n",
      "The odd numbers present in this list is/are:  [3, -7, -25, 21]\n"
     ]
    }
   ],
   "source": [
    "#8. Write a Python program to print odd numbers in a List?\n",
    "def list_odd(list):\n",
    "    result = []\n",
    "    for i in range(len(list)):\n",
    "        if list[i]%2 != 0:\n",
    "            result.append(list[i])\n",
    "    return result\n",
    "\n",
    "list = eval(input('Enter the list here: '))\n",
    "print('The odd numbers present in this list is/are: ', list_odd(list))"
   ]
  },
  {
   "cell_type": "code",
   "execution_count": 1,
   "metadata": {},
   "outputs": [
    {
     "name": "stdout",
     "output_type": "stream",
     "text": [
      "Enter the list: [8, 6, [], 12, [2, 3], [], 75]\n",
      "After removing the empty lists the updated list is:  [8, 6, 12, [2, 3], 75]\n"
     ]
    }
   ],
   "source": [
    "#9. Write a Python program to Remove empty List from List?\n",
    "def remove_empty(l):\n",
    "    result = []\n",
    "    for i in range(len(l)):\n",
    "        if type(l[i]) == list:\n",
    "            if len(l[i]) != 0:\n",
    "                result.append(l[i])\n",
    "        elif type(l[i]) == int:\n",
    "            result.append(l[i])\n",
    "    return result\n",
    "\n",
    "l = eval(input('Enter the list: '))\n",
    "print('After removing the empty lists the updated list is: ', remove_empty(l))"
   ]
  },
  {
   "cell_type": "code",
   "execution_count": 4,
   "metadata": {},
   "outputs": [
    {
     "name": "stdout",
     "output_type": "stream",
     "text": [
      "Enter the list: [3,8,-7,-25, 2, 21]\n",
      "After copying the list the clone list is:  [3, 8, -7, -25, 2, 21]\n"
     ]
    }
   ],
   "source": [
    "#10. Write a Python program to Cloning or Copying a list?\n",
    "def copy(list):\n",
    "    clone  = []\n",
    "    for i in range(len(list)):\n",
    "        clone.append(list[i])\n",
    "    return clone\n",
    "\n",
    "list = eval(input('Enter the list: '))\n",
    "print('After copying the list the clone list is: ', copy(list))"
   ]
  },
  {
   "cell_type": "code",
   "execution_count": 7,
   "metadata": {},
   "outputs": [
    {
     "name": "stdout",
     "output_type": "stream",
     "text": [
      "Enter the list here: ['a','a','p','2','v','f','v','v','a','p','v',2]\n",
      "Enter the alphabet or number you want to find occurrences: v\n",
      "Inside the list \"v\" occurred 4 no of times.\n"
     ]
    }
   ],
   "source": [
    "#11. Write a Python program to Count occurrences of an element in a list?\n",
    "\n",
    "def occurrences(list, n):\n",
    "    return list.count(n)\n",
    "\n",
    "list = eval(input('Enter the list here: '))\n",
    "n = input('Enter the alphabet or number you want to find occurrences: ')\n",
    "print('Inside the list \"{}\" occurred {} no of times.'.format(n, occurrences(list, n)))"
   ]
  }
 ],
 "metadata": {
  "kernelspec": {
   "display_name": "Python 3",
   "language": "python",
   "name": "python3"
  },
  "language_info": {
   "codemirror_mode": {
    "name": "ipython",
    "version": 3
   },
   "file_extension": ".py",
   "mimetype": "text/x-python",
   "name": "python",
   "nbconvert_exporter": "python",
   "pygments_lexer": "ipython3",
   "version": "3.8.5"
  }
 },
 "nbformat": 4,
 "nbformat_minor": 4
}
