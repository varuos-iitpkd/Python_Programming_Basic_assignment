{
 "cells": [
  {
   "cell_type": "markdown",
   "metadata": {},
   "source": [
    "1. Write a Python Program to find sum of array?\n",
    "2. Write a Python Program to find largest element in an array?\n",
    "3. Write a Python Program for array rotation?\n",
    "4. Write a Python Program to Split the array and add the first part to the end?\n",
    "5. Write a Python Program to check if given array is Monotonic?"
   ]
  },
  {
   "cell_type": "code",
   "execution_count": 3,
   "metadata": {},
   "outputs": [
    {
     "name": "stdout",
     "output_type": "stream",
     "text": [
      "Enter the array elements: 2,3,4\n",
      "The sum of the array elements is:  9\n"
     ]
    }
   ],
   "source": [
    "#1. Write a Python Program to find sum of array?\n",
    "def arr_sum(arr):\n",
    "    sum = 0\n",
    "    for i in arr:\n",
    "        sum += i\n",
    "    return sum\n",
    "arr = eval(input('Enter the array elements: '))\n",
    "print('The sum of the array elements is: ', arr_sum(arr))\n"
   ]
  },
  {
   "cell_type": "code",
   "execution_count": 5,
   "metadata": {},
   "outputs": [
    {
     "name": "stdout",
     "output_type": "stream",
     "text": [
      "Enter the array elements: 45,65,-89,23,23\n",
      "The largest element in this array is:  65\n"
     ]
    }
   ],
   "source": [
    "#2. Write a Python Program to find largest element in an array?\n",
    "def large_arr(arr):\n",
    "    return max(arr)\n",
    "arr = eval(input('Enter the array elements: '))\n",
    "print('The largest element in this array is: ', large_arr(arr))"
   ]
  },
  {
   "cell_type": "code",
   "execution_count": 13,
   "metadata": {},
   "outputs": [
    {
     "name": "stdout",
     "output_type": "stream",
     "text": [
      "---This program will help to rotate an array---\n",
      "Enter the array elements: [2,3,4,5]\n",
      "Do you want to rotate this array(Yes/No): yes\n",
      "After rotation:  [3, 4, 5, 2]\n",
      "Do you want to rotate this array(Yes/No): yes\n",
      "After rotation:  [4, 5, 2, 3]\n",
      "Do you want to rotate this array(Yes/No): yes\n",
      "After rotation:  [5, 2, 3, 4]\n",
      "Do you want to rotate this array(Yes/No): yes\n",
      "After rotation:  [2, 3, 4, 5]\n",
      "Do you want to rotate this array(Yes/No): yes\n",
      "After rotation:  [3, 4, 5, 2]\n",
      "Do you want to rotate this array(Yes/No): no\n",
      "---Program Terminated---\n"
     ]
    }
   ],
   "source": [
    "#3. Write a Python Program for array rotation?\n",
    "print('---This program will help to rotate an array---')\n",
    "def arr_rotate(arr):\n",
    "    rot = arr[1:len(arr)]\n",
    "    rot.append(arr[0])\n",
    "    return rot\n",
    "arr = eval(input('Enter the array elements: '))\n",
    "while True:\n",
    "    r = input('Do you want to rotate this array(Yes/No): ').lower()\n",
    "    if r == 'yes':\n",
    "        print('After rotation: ',arr_rotate(arr))\n",
    "        arr = arr_rotate(arr)\n",
    "    else:\n",
    "        print('---Program Terminated---')\n",
    "        break"
   ]
  },
  {
   "cell_type": "code",
   "execution_count": 18,
   "metadata": {},
   "outputs": [
    {
     "name": "stdout",
     "output_type": "stream",
     "text": [
      "---This program will help to split an array and add that first part to the end---\n",
      "Enter the array elements: [2,3,4,5,6]\n",
      "Do you want to split this array(Yes/No): yes\n",
      "From which positive index you want to split: 2\n",
      "After spliting and adding the first part to the end:  [4, 5, 6, 2, 3]\n",
      "Do you want to split this array(Yes/No): yes\n",
      "From which positive index you want to split: 2\n",
      "After spliting and adding the first part to the end:  [6, 2, 3, 4, 5]\n",
      "Do you want to split this array(Yes/No): no\n",
      "---Program Terminated---\n"
     ]
    }
   ],
   "source": [
    "#4. Write a Python Program to Split the array and add the first part to the end?\n",
    "print('---This program will help to split an array and add that first part to the end---')\n",
    "def arr_split(arr,i):\n",
    "    rot = arr[i:len(arr)]\n",
    "    for i in range(i):\n",
    "        rot.append(arr[i])\n",
    "    return rot\n",
    "arr = eval(input('Enter the array elements: '))\n",
    "while True:\n",
    "    a = input('Do you want to split this array(Yes/No): ').lower()\n",
    "    if a == 'yes':\n",
    "        i = int(input('From which positive index you want to split: '))\n",
    "        print('After spliting and adding the first part to the end: ',arr_split(arr,i))\n",
    "        arr = arr_split(arr,i)\n",
    "    else:\n",
    "        print('---Program Terminated---')\n",
    "        break"
   ]
  },
  {
   "cell_type": "code",
   "execution_count": 30,
   "metadata": {},
   "outputs": [
    {
     "name": "stdout",
     "output_type": "stream",
     "text": [
      "Enter your array here: [2,3,4,5,6]\n",
      "The given array is monotonic\n"
     ]
    }
   ],
   "source": [
    "#5. Write a Python Program to check if given array is Monotonic?\n",
    "def monotonic(arr):\n",
    "    return (all(arr[i] <= arr[i + 1] for i in range(len(arr) - 1)) or all(arr[i] >= arr[i + 1] for i in range(len(arr) - 1)))\n",
    "\n",
    "arr = eval(input('Enter your array here: '))\n",
    "if monotonic(arr) == 1:\n",
    "    print('The given array is monotonic')\n",
    "else:\n",
    "    print('The array is not monotonic')"
   ]
  }
 ],
 "metadata": {
  "kernelspec": {
   "display_name": "Python 3",
   "language": "python",
   "name": "python3"
  }
 },
 "nbformat": 4,
 "nbformat_minor": 4
}
