{
 "cells": [
  {
   "cell_type": "markdown",
   "metadata": {},
   "source": [
    "1. Write a Python program to find words which are greater than given length k?\n",
    "2. Write a Python program for removing i-th character from a string?\n",
    "3. Write a Python program to split and join a string?\n",
    "4. Write a Python to check if a given string is binary string or not?\n",
    "5. Write a Python program to find uncommon words from two Strings?\n",
    "6. Write a Python to find all duplicate characters in string?\n",
    "7. Write a Python Program to check if a string contains any special character?"
   ]
  },
  {
   "cell_type": "code",
   "execution_count": 8,
   "metadata": {},
   "outputs": [
    {
     "name": "stdout",
     "output_type": "stream",
     "text": [
      "Enter your string here: Learning Python is not so difficult\n",
      "Enter the length: 6\n",
      "The words that are having length greater than 6 are: ['Learning', 'difficult']\n"
     ]
    }
   ],
   "source": [
    "#1. Write a Python program to find words which are greater than given length k?\n",
    "def grt_k(s, k):\n",
    "    result = []\n",
    "    for i in s.split(' '):\n",
    "        if len(i) > k:\n",
    "            result.append(i)\n",
    "    return result\n",
    "\n",
    "s = input('Enter your string here: ')\n",
    "k = int(input('Enter the length: '))\n",
    "print('The words that are having length greater than {} are: {}'.format(k, grt_k(s,k)))"
   ]
  },
  {
   "cell_type": "code",
   "execution_count": 11,
   "metadata": {},
   "outputs": [
    {
     "name": "stdout",
     "output_type": "stream",
     "text": [
      "Enter your string here: ABCDEFGHIJKLMNOPQRSTUVWXYZ\n",
      "Enter the index of the character you want to remove: 15\n",
      "The updated string is:  ABCDEFGHIJKLMNOQRSTUVWXYZ\n"
     ]
    }
   ],
   "source": [
    "#2. Write a Python program for removing i-th character from a string?\n",
    "\n",
    "def rem_ith(s, i):\n",
    "    new = ''\n",
    "    for j in s:\n",
    "        if s.index(j) != i:\n",
    "            new += j\n",
    "    return new\n",
    "\n",
    "s = input('Enter your string here: ')\n",
    "i = int(input('Enter the index of the character you want to remove: '))\n",
    "print('The updated string is: ', rem_ith(s, i))\n",
    "            "
   ]
  },
  {
   "cell_type": "code",
   "execution_count": 16,
   "metadata": {},
   "outputs": [
    {
     "name": "stdout",
     "output_type": "stream",
     "text": [
      "Enter your string here: Learning Python is not so difficult\n",
      "Spliting the string:  ['Learning', 'Python', 'is', 'not', 'so', 'difficult']\n",
      "joining the string:  Learning Python is not so difficult \n"
     ]
    }
   ],
   "source": [
    "#3. Write a Python program to split and join a string?\n",
    "\n",
    "def split(s):\n",
    "    return s.split(' ')\n",
    "def join(s):\n",
    "    result = ''\n",
    "    for i in s.split(' '):\n",
    "        result += i + ' '\n",
    "    return result\n",
    "\n",
    "s = input('Enter your string here: ')\n",
    "print('Spliting the string: ', split(s))\n",
    "print('joining the string: ', join(s))"
   ]
  },
  {
   "cell_type": "code",
   "execution_count": 24,
   "metadata": {},
   "outputs": [
    {
     "name": "stdout",
     "output_type": "stream",
     "text": [
      "Enter the string: 110010\n",
      "The given string is binary\n"
     ]
    }
   ],
   "source": [
    "#4. Write a Python to check if a given string is binary string or not?\n",
    "\n",
    "def is_binary(s):\n",
    "    result = all(i == '1' or i == '0' for i in s)\n",
    "    return result\n",
    "\n",
    "s = input('Enter the string: ')\n",
    "if is_binary(s) == True:\n",
    "    print('The given string is binary')\n",
    "else:\n",
    "    print('The given string is not binary')"
   ]
  },
  {
   "cell_type": "code",
   "execution_count": 25,
   "metadata": {},
   "outputs": [
    {
     "name": "stdout",
     "output_type": "stream",
     "text": [
      "Enter the first string: Learning Python is easy compared to other languages\n",
      "Enter the second string: Learning Python is not so difficult\n",
      "The uncommon words are:  ['easy', 'compared', 'to', 'other', 'languages', 'not', 'so', 'difficult']\n"
     ]
    }
   ],
   "source": [
    "#5. Write a Python program to find uncommon words from two Strings?\n",
    "\n",
    "def uncommon(s1, s2):\n",
    "    result1 = [i for i in s1.split(' ') if i not in s2.split(' ')]\n",
    "    result2 = [i for i in s2.split(' ') if i not in s1.split(' ')]\n",
    "    return result1 + result2\n",
    "            \n",
    "\n",
    "s1 = input('Enter the first string: ')\n",
    "s2 = input('Enter the second string: ')\n",
    "print('The uncommon words are: ', uncommon(s1, s2))"
   ]
  },
  {
   "cell_type": "code",
   "execution_count": 34,
   "metadata": {},
   "outputs": [
    {
     "name": "stdout",
     "output_type": "stream",
     "text": [
      "Enter your string here: full stack data science\n",
      "The duplicate characters are:  {'s', 't', 'c', 'e', 'l', 'a'}\n"
     ]
    }
   ],
   "source": [
    "#6. Write a Python to find all duplicate characters in string?\n",
    "\n",
    "def find_dup(s):\n",
    "    result = [i for i in s if s.count(i) > 1 if i != ' ']\n",
    "    return set(result)\n",
    "    \n",
    "    \n",
    "s = input('Enter your string here: ')\n",
    "print('The duplicate characters are: ', find_dup(s))"
   ]
  },
  {
   "cell_type": "code",
   "execution_count": 36,
   "metadata": {},
   "outputs": [
    {
     "name": "stdout",
     "output_type": "stream",
     "text": [
      "Enter the string here: full@stack#data science[]\n",
      "The string contains special character.\n",
      "['@', '#', '[', ']']\n"
     ]
    }
   ],
   "source": [
    "#7. Write a Python Program to check if a string contains any special character?\n",
    "\n",
    "def special(s):\n",
    "    sp_ch = '[@_!#$%^&*()<>?/\\|}{~:]'\n",
    "    result = [i for i in s if i in sp_ch]\n",
    "    return result\n",
    "\n",
    "s = input('Enter the string here: ')\n",
    "if len(special(s)) != 0:\n",
    "    print('The string contains special character.')\n",
    "    print(special(s))\n",
    "else:\n",
    "    print('The string does not contain any special character.')"
   ]
  }
 ],
 "metadata": {
  "kernelspec": {
   "display_name": "Python 3",
   "language": "python",
   "name": "python3"
  },
  "language_info": {
   "codemirror_mode": {
    "name": "ipython",
    "version": 3
   },
   "file_extension": ".py",
   "mimetype": "text/x-python",
   "name": "python",
   "nbconvert_exporter": "python",
   "pygments_lexer": "ipython3",
   "version": "3.8.5"
  }
 },
 "nbformat": 4,
 "nbformat_minor": 4
}
