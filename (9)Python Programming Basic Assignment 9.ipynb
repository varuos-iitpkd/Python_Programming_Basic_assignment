{
 "cells": [
  {
   "cell_type": "markdown",
   "metadata": {},
   "source": [
    "1. Write a Python program to check if the given number is a Disarium Number?\n",
    "2. Write a Python program to print all disarium numbers between 1 to 100?\n",
    "3. Write a Python program to check if the given number is Happy Number?\n",
    "4. Write a Python program to print all happy numbers between 1 and 100?\n",
    "5. Write a Python program to determine whether the given number is a Harshad Number?\n",
    "6. Write a Python program to print all pronic numbers between 1 and 100?"
   ]
  },
  {
   "cell_type": "code",
   "execution_count": 9,
   "metadata": {},
   "outputs": [
    {
     "name": "stdout",
     "output_type": "stream",
     "text": [
      "---This program will check the disarirm number---\n",
      "Enter the number: 175\n",
      "175 is a disarium number\n"
     ]
    }
   ],
   "source": [
    "#1. Write a Python program to check if the given number is a Disarium Number?\n",
    "print('---This program will check the disarirm number---')\n",
    "def disarium(n):\n",
    "    sum = 0\n",
    "    m = 1\n",
    "    for i in n:\n",
    "        sum += int(i)**m\n",
    "        m += 1\n",
    "    return sum\n",
    "\n",
    "n = input('Enter the number: ')\n",
    "if disarium(n) == int(n):\n",
    "    print('{} is a disarium number'.format(int(n)))\n",
    "else:\n",
    "    print('{} is not a disarium number'.format(int(n)))"
   ]
  },
  {
   "cell_type": "code",
   "execution_count": 11,
   "metadata": {},
   "outputs": [
    {
     "name": "stdout",
     "output_type": "stream",
     "text": [
      "1\n",
      "2\n",
      "3\n",
      "4\n",
      "5\n",
      "6\n",
      "7\n",
      "8\n",
      "9\n",
      "89\n"
     ]
    }
   ],
   "source": [
    "#2. Write a Python program to print all disarium numbers between 1 to 100?\n",
    "\n",
    "for k in range(1,101):\n",
    "    if disarium(str(k)) == k: # The disarium function is taken from above code\n",
    "        print(k)"
   ]
  },
  {
   "cell_type": "code",
   "execution_count": 28,
   "metadata": {},
   "outputs": [
    {
     "name": "stdout",
     "output_type": "stream",
     "text": [
      "Enter your number: 94\n",
      "94 is a happy number\n"
     ]
    }
   ],
   "source": [
    "#3. Write a Python program to check if the given number is Happy Number?\n",
    "\n",
    "def is_happy(n):\n",
    "    sum = 0\n",
    "    while sum >= 0:\n",
    "        sum = 0\n",
    "        for i in n:\n",
    "            sum += int(i) ** 2\n",
    "        n = str(sum)\n",
    "        if sum == 1:\n",
    "            result = 'happy'\n",
    "            break\n",
    "        elif sum == 4:\n",
    "            result = 'unhappy'\n",
    "            break\n",
    "    return result\n",
    "\n",
    "n = input('Enter your number: ')\n",
    "print('{} is a {} number'.format(n, is_happy(n)))"
   ]
  },
  {
   "cell_type": "code",
   "execution_count": 27,
   "metadata": {},
   "outputs": [
    {
     "name": "stdout",
     "output_type": "stream",
     "text": [
      "1\n",
      "7\n",
      "10\n",
      "13\n",
      "19\n",
      "23\n",
      "28\n",
      "31\n",
      "32\n",
      "44\n",
      "49\n",
      "68\n",
      "70\n",
      "79\n",
      "82\n",
      "86\n",
      "91\n",
      "94\n",
      "97\n",
      "100\n"
     ]
    }
   ],
   "source": [
    "#4. Write a Python program to print all happy numbers between 1 and 100?\n",
    "\n",
    "for i in range(1,101):\n",
    "    if is_happy(str(i)) == 'happy': ## The is_happy() function is taken from above question 3\n",
    "        print(i)\n",
    "        "
   ]
  },
  {
   "cell_type": "code",
   "execution_count": 32,
   "metadata": {},
   "outputs": [
    {
     "name": "stdout",
     "output_type": "stream",
     "text": [
      "Enter the number here: 18\n",
      "18 is harshad number\n"
     ]
    }
   ],
   "source": [
    "#5. Write a Python program to determine whether the given number is a Harshad Number?\n",
    "\n",
    "def is_harshad(n):\n",
    "    sum = 0\n",
    "    for i in n:\n",
    "        sum += int(i)\n",
    "    if int(n) % sum == 0:\n",
    "        result = 'harshad'\n",
    "    else:\n",
    "        result = 'not a harshad'\n",
    "    return result\n",
    "\n",
    "n = input('Enter the number here: ')\n",
    "print('{} is {} number'.format(n, is_harshad(n)))"
   ]
  },
  {
   "cell_type": "code",
   "execution_count": 55,
   "metadata": {},
   "outputs": [
    {
     "name": "stdout",
     "output_type": "stream",
     "text": [
      "2\n",
      "6\n",
      "12\n",
      "20\n",
      "30\n",
      "42\n",
      "56\n",
      "72\n",
      "90\n"
     ]
    }
   ],
   "source": [
    "#6. Write a Python program to print all pronic numbers between 1 and 100?\n",
    "\n",
    "def is_pronic(n):\n",
    "    result = 'not a pronic'\n",
    "    for i in range(1,int(n)):\n",
    "        if int(n)%i == 0:\n",
    "            num = int(n)//i\n",
    "            if max(num, i) - min(num, i) == 1:\n",
    "                result = 'pronic'\n",
    "    return result\n",
    "\n",
    "for x in range(1, 101):\n",
    "    if is_pronic(str(x)) == 'pronic':\n",
    "        print(x)"
   ]
  }
 ],
 "metadata": {
  "kernelspec": {
   "display_name": "Python 3",
   "language": "python",
   "name": "python3"
  },
  "language_info": {
   "codemirror_mode": {
    "name": "ipython",
    "version": 3
   },
   "file_extension": ".py",
   "mimetype": "text/x-python",
   "name": "python",
   "nbconvert_exporter": "python",
   "pygments_lexer": "ipython3",
   "version": "3.8.5"
  }
 },
 "nbformat": 4,
 "nbformat_minor": 4
}
