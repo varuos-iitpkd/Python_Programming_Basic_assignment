{
 "cells": [
  {
   "cell_type": "markdown",
   "metadata": {},
   "source": [
    "1. Write a Python Program to Find the Factorial of a Number?\n",
    "2. Write a Python Program to Display the multiplication Table?\n",
    "3. Write a Python Program to Print the Fibonacci sequence?\n",
    "4. Write a Python Program to Check Armstrong Number?\n",
    "5. Write a Python Program to Find Armstrong Number in an Interval?\n",
    "6. Write a Python Program to Find the Sum of Natural Numbers?"
   ]
  },
  {
   "cell_type": "code",
   "execution_count": 3,
   "metadata": {},
   "outputs": [
    {
     "name": "stdout",
     "output_type": "stream",
     "text": [
      "Enter the number: 6\n",
      "The factorial of 6 is 720\n"
     ]
    }
   ],
   "source": [
    "#1. Write a Python Program to Find the Factorial of a Number?\n",
    "def factorial(n):\n",
    "    output = 1\n",
    "    while n > 0:\n",
    "        output = output * n\n",
    "        n = n - 1\n",
    "    return output\n",
    "n = int(input('Enter the number: '))\n",
    "print('The factorial of {} is {}'.format(n, factorial(n)))\n"
   ]
  },
  {
   "cell_type": "code",
   "execution_count": 6,
   "metadata": {},
   "outputs": [
    {
     "name": "stdout",
     "output_type": "stream",
     "text": [
      "---This python program is to display the multiplication table---\n",
      "Enter the number: 5\n",
      "5 * 1 = 5\n",
      "5 * 2 = 10\n",
      "5 * 3 = 15\n",
      "5 * 4 = 20\n",
      "5 * 5 = 25\n",
      "5 * 6 = 30\n",
      "5 * 7 = 35\n",
      "5 * 8 = 40\n",
      "5 * 9 = 45\n",
      "5 * 10 = 50\n"
     ]
    }
   ],
   "source": [
    "#2. Write a Python Program to Display the multiplication Table?\n",
    "print('---This python program is to display the multiplication table---')\n",
    "def mul_table(n):\n",
    "    for i in range(1, 11):\n",
    "        print('{} * {} = {}'.format(n, i, n*i))\n",
    "n = int(input('Enter the number: '))\n",
    "mul_table(n)\n"
   ]
  },
  {
   "cell_type": "code",
   "execution_count": 11,
   "metadata": {},
   "outputs": [
    {
     "name": "stdout",
     "output_type": "stream",
     "text": [
      "Enter the number of fibonacci numbers you want to generate: 10\n",
      "0\n",
      "1\n",
      "1\n",
      "2\n",
      "3\n",
      "5\n",
      "8\n",
      "13\n",
      "21\n",
      "34\n"
     ]
    }
   ],
   "source": [
    "#3. Write a Python Program to Print the Fibonacci sequence?\n",
    "def fibonacci(n):\n",
    "    a,b = 0,1\n",
    "    for i in range(n):\n",
    "        print(a)\n",
    "        a, b = a+b, a\n",
    "n = int(input('Enter the number of fibonacci numbers you want to generate: '))\n",
    "fibonacci(n)"
   ]
  },
  {
   "cell_type": "code",
   "execution_count": 14,
   "metadata": {},
   "outputs": [
    {
     "name": "stdout",
     "output_type": "stream",
     "text": [
      "---This python program is to check armstrong number---\n",
      "Enter the number to check: 371\n",
      "This is a armstrong number\n"
     ]
    }
   ],
   "source": [
    "#4. Write a Python Program to Check Armstrong Number?\n",
    "print('---This python program is to check armstrong number---')\n",
    "def check_armstrong(n):\n",
    "    out = 0\n",
    "    for i in str(n):\n",
    "        out = out + int(i)**3\n",
    "    if out == n:\n",
    "        print('This is a armstrong number')\n",
    "    else:\n",
    "        print('This is not a armstrong number')\n",
    "n = int(input('Enter the number to check: '))\n",
    "check_armstrong(n)"
   ]
  },
  {
   "cell_type": "code",
   "execution_count": 16,
   "metadata": {},
   "outputs": [
    {
     "name": "stdout",
     "output_type": "stream",
     "text": [
      "Enter the lower limit: 200\n",
      "Enter the upper limit: 999\n",
      "370\n",
      "371\n",
      "407\n"
     ]
    }
   ],
   "source": [
    "#5. Write a Python Program to Find Armstrong Number in an Interval?\n",
    "def find_armstrong(u):\n",
    "    for i in range(l, u):\n",
    "        out = 0\n",
    "        for j in str(i):\n",
    "            out += int(j)**3\n",
    "        if out == i:\n",
    "            print(i)\n",
    "l = int(input('Enter the lower limit: '))\n",
    "u = int(input('Enter the upper limit: '))\n",
    "find_armstrong(u)\n",
    "        "
   ]
  },
  {
   "cell_type": "code",
   "execution_count": 21,
   "metadata": {},
   "outputs": [
    {
     "name": "stdout",
     "output_type": "stream",
     "text": [
      "Enter the lower limit: 2\n",
      "Enter the lower limit: 10\n"
     ]
    },
    {
     "data": {
      "text/plain": [
       "('The sum of the natural numbers in this range is', 44)"
      ]
     },
     "execution_count": 21,
     "metadata": {},
     "output_type": "execute_result"
    }
   ],
   "source": [
    "#6. Write a Python Program to Find the Sum of Natural Numbers?\n",
    "def sum_natural(u):\n",
    "    out = 0\n",
    "    for i in range(l, u):\n",
    "        out += i\n",
    "    return 'The sum of the natural numbers in this range is', out\n",
    "l = int(input('Enter the lower limit: '))\n",
    "u = int(input('Enter the lower limit: '))\n",
    "sum_natural(u)"
   ]
  },
  {
   "cell_type": "code",
   "execution_count": null,
   "metadata": {},
   "outputs": [],
   "source": []
  }
 ],
 "metadata": {
  "kernelspec": {
   "display_name": "Python 3",
   "language": "python",
   "name": "python3"
  },
  "language_info": {
   "codemirror_mode": {
    "name": "ipython",
    "version": 3
   },
   "file_extension": ".py",
   "mimetype": "text/x-python",
   "name": "python",
   "nbconvert_exporter": "python",
   "pygments_lexer": "ipython3",
   "version": "3.8.5"
  }
 },
 "nbformat": 4,
 "nbformat_minor": 4
}
