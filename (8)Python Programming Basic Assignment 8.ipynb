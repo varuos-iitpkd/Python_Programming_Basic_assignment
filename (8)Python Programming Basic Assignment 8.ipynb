{
 "cells": [
  {
   "cell_type": "markdown",
   "metadata": {},
   "source": [
    "1. Write a Python Program to Add Two Matrices?\n",
    "2. Write a Python Program to Multiply Two Matrices?\n",
    "3. Write a Python Program to Transpose a Matrix?\n",
    "4. Write a Python Program to Sort Words in Alphabetic Order?\n",
    "5. Write a Python Program to Remove Punctuation From a String?"
   ]
  },
  {
   "cell_type": "code",
   "execution_count": 32,
   "metadata": {},
   "outputs": [
    {
     "name": "stdout",
     "output_type": "stream",
     "text": [
      "---This program will add two matrices---\n",
      "Enter the first matrix: [[1,2,3], [4,5,6], [7,8,9]]\n",
      "Enter the second matrix: [[1,2,3], [4,5,6], [7,8,9]]\n",
      "The addition of these matrix is:  [[2, 4, 6], [8, 10, 12], [14, 16, 18]]\n"
     ]
    }
   ],
   "source": [
    "#1. Write a Python Program to Add Two Matrices?\n",
    "print('---This program will add two matrices---')\n",
    "def add_mat(m1, m2):\n",
    "    result = [[0,0,0], [0,0,0], [0,0,0]]\n",
    "    for i in range(len(m1)):\n",
    "        for j in range(len(m2)):\n",
    "            result[i][j] = (m1[i][j] + m2[i][j])\n",
    "    return result\n",
    "\n",
    "m1 = eval(input('Enter the first matrix: '))\n",
    "m2 = eval(input('Enter the second matrix: '))\n",
    "print('The addition of these matrix is: ',add_mat(m1, m2))"
   ]
  },
  {
   "cell_type": "code",
   "execution_count": 33,
   "metadata": {},
   "outputs": [
    {
     "name": "stdout",
     "output_type": "stream",
     "text": [
      "---This program will add two matrices---\n",
      "Enter the first matrix: [[1,2,3], [4,5,6], [7,8,9]]\n",
      "Enter the second matrix: [[1,2,3], [4,5,6], [7,8,9]]\n",
      "The addition of these matrix is:  [[1, 4, 9], [16, 25, 36], [49, 64, 81]]\n"
     ]
    }
   ],
   "source": [
    "#2. Write a Python Program to Multiply Two Matrices?\n",
    "print('---This program will add two matrices---')\n",
    "def mul_mat(m1, m2):\n",
    "    result = [[0,0,0], [0,0,0], [0,0,0]]\n",
    "    for i in range(len(m1)):\n",
    "        for j in range(len(m2)):\n",
    "            result[i][j] = (m1[i][j] * m2[i][j])\n",
    "    return result\n",
    "\n",
    "m1 = eval(input('Enter the first matrix: '))\n",
    "m2 = eval(input('Enter the second matrix: '))\n",
    "print('The addition of these matrix is: ',mul_mat(m1, m2))"
   ]
  },
  {
   "cell_type": "code",
   "execution_count": 38,
   "metadata": {},
   "outputs": [
    {
     "name": "stdout",
     "output_type": "stream",
     "text": [
      "---Obtain the transpose of a matrix---\n",
      "Enter the matrix: [[1,2,3], [4,5,6], [7,8,9]]\n",
      "The Transpose of this matrix is:  [[1, 4, 7], [2, 5, 8], [3, 6, 9]]\n"
     ]
    }
   ],
   "source": [
    "#3. Write a Python Program to Transpose a Matrix?\n",
    "print('---Obtain the transpose of a matrix---')\n",
    "def tr_mat(m):\n",
    "    result = [[0,0,0], [0,0,0], [0,0,0]]\n",
    "    for i in range(len(m)):\n",
    "        for j in range(len(m[i])):\n",
    "            result[i][j] = m[j][i]\n",
    "    return result\n",
    "\n",
    "m = eval(input('Enter the matrix: '))\n",
    "print('The Transpose of this matrix is: ', tr_mat(m))"
   ]
  },
  {
   "cell_type": "code",
   "execution_count": 44,
   "metadata": {},
   "outputs": [
    {
     "name": "stdout",
     "output_type": "stream",
     "text": [
      "Enter the alphabets to sort in alphabetic order: dsagagagda\n",
      "The sorted sequence is:  aaaaddgggs\n"
     ]
    }
   ],
   "source": [
    "#4. Write a Python Program to Sort Words in Alphabetic Order?\n",
    "order = 'AaBbCcDdEeFfGgHhIiJjKkLlMmNnOoPpQqRrSsTtUuVvWwXxYyZz'\n",
    "def alp_ord(alphabets):\n",
    "    result = ''\n",
    "    for i in sorted(alphabets):\n",
    "        result += i\n",
    "    return result\n",
    "\n",
    "alphabets = input('Enter the alphabets to sort in alphabetic order: ')\n",
    "print('The sorted sequence is: ', alp_ord(alphabets))"
   ]
  },
  {
   "cell_type": "code",
   "execution_count": 10,
   "metadata": {},
   "outputs": [
    {
     "name": "stdout",
     "output_type": "stream",
     "text": [
      "Enter your string here: Hey! listen to me, my mail id is souravsen@gmail.com\n",
      "The result string after removing punctuations is:  Hey listen to me my mail id is souravsengmailcom\n"
     ]
    }
   ],
   "source": [
    "#5. Write a Python Program to Remove Punctuation From a String?\n",
    "\n",
    "punctuations = \"\"\"!()-[]{};:'\"\\,<>./?@#$%^&*_~\"\"\"\n",
    "def rem_punc(s):\n",
    "    out = ''\n",
    "    for i in s:\n",
    "        if i not in punctuations:\n",
    "            out += i\n",
    "    return out\n",
    "\n",
    "s = input('Enter your string here: ')\n",
    "print('The result string after removing punctuations is: ', rem_punc(s))"
   ]
  },
  {
   "cell_type": "code",
   "execution_count": null,
   "metadata": {},
   "outputs": [],
   "source": []
  }
 ],
 "metadata": {
  "kernelspec": {
   "display_name": "Python 3",
   "language": "python",
   "name": "python3"
  },
  "language_info": {
   "codemirror_mode": {
    "name": "ipython",
    "version": 3
   },
   "file_extension": ".py",
   "mimetype": "text/x-python",
   "name": "python",
   "nbconvert_exporter": "python",
   "pygments_lexer": "ipython3",
   "version": "3.8.5"
  }
 },
 "nbformat": 4,
 "nbformat_minor": 4
}
